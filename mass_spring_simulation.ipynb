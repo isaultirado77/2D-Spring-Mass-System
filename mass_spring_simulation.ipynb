{
 "cells": [
  {
   "cell_type": "code",
   "execution_count": 37,
   "metadata": {},
   "outputs": [],
   "source": [
    "import numpy as np\n",
    "import matplotlib.pyplot as plt\n",
    "from mass_spring_system import Mass, Spring, System"
   ]
  },
  {
   "cell_type": "code",
   "execution_count": 38,
   "metadata": {},
   "outputs": [],
   "source": [
    "# System parameters\n",
    "mass = Mass(position=[1.0, 0.0], velocity=[1.0, 2.0], mass=1.0)\n",
    "spring = Spring(k=10.0, rest_length=1.0)\n",
    "system = System(mass=mass, spring=spring, damping=0.1)"
   ]
  },
  {
   "cell_type": "code",
   "execution_count": 39,
   "metadata": {},
   "outputs": [],
   "source": [
    "# Simulation\n",
    "t_max = 20.0\n",
    "dt = 0.01\n",
    "system.simulate(t_max, dt)"
   ]
  },
  {
   "cell_type": "code",
   "execution_count": null,
   "metadata": {},
   "outputs": [
    {
     "data": {
      "text/plain": [
       "(2000, 8)"
      ]
     },
     "execution_count": 42,
     "metadata": {},
     "output_type": "execute_result"
    }
   ],
   "source": [
    "# Get results\n",
    "data_file = \"data/simulation_data.dat\"\n",
    "data = np.loadtxt(data_file, skiprows=1)\n",
    "data.shape\n",
    "\n",
    "time = data[:, 0]\n",
    "x, y = data[:, 1], data[:, 2]\n",
    "vx, vy = data[:, 3], data[:, 4]\n",
    "E_kin, E_pot, E_total = data[:, 5], data[:, 6], data[:, 7]"
   ]
  },
  {
   "cell_type": "code",
   "execution_count": null,
   "metadata": {},
   "outputs": [],
   "source": []
  }
 ],
 "metadata": {
  "kernelspec": {
   "display_name": "Python (virt_imp)",
   "language": "python",
   "name": "virt_imp"
  },
  "language_info": {
   "codemirror_mode": {
    "name": "ipython",
    "version": 3
   },
   "file_extension": ".py",
   "mimetype": "text/x-python",
   "name": "python",
   "nbconvert_exporter": "python",
   "pygments_lexer": "ipython3",
   "version": "3.12.4"
  }
 },
 "nbformat": 4,
 "nbformat_minor": 2
}
